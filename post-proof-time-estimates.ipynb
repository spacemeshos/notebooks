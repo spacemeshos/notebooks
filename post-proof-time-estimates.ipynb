{
 "cells": [
  {
   "cell_type": "markdown",
   "id": "7827c20b-7211-454c-bfd2-62e077810fc1",
   "metadata": {},
   "source": [
    "# Estimating PoST proof duration"
   ]
  },
  {
   "cell_type": "code",
   "execution_count": 50,
   "id": "d3fd53c9-a164-4c84-a2cb-a571663cb0f2",
   "metadata": {},
   "outputs": [],
   "source": [
    "from IPython.display import display,Math,Markdown\n",
    "from scipy.stats import binom, nbinom\n",
    "from scipy import optimize\n",
    "import math\n",
    "from math import log, floor, ceil, sqrt\n",
    "import random\n",
    "\n",
    "def dm(str):\n",
    "    display(Markdown(str))\n"
   ]
  },
  {
   "cell_type": "markdown",
   "id": "a4065eb8-dabc-4de9-8283-d112d81ff0de",
   "metadata": {},
   "source": [
    "The PoST proof is a long-running task whose duration is probabilistic. However, given the disk read speed and AES computation speed, we know the exactly how the duration is distributed. Moreover, as the PoST proof progresses, we get additional information, and can update both the expected time and the percentiles.\n",
    "\n",
    "## Background\n",
    "\n",
    "To recall, the PoST proof basically repeats the following steps until it is successful:\n",
    "Let $n$ be the number of labels in the PoST data.\n",
    "1. Compute $r$ k2pows for set of $m=r\\cdot b$ parallel nonces, in batches of size $b$.\n",
    "2. For $i$ in range ($n$):\n",
    "\n",
    "   a.  read label $i$\n",
    "   \n",
    "   b.  hash label $i$ (number of hashes is $r$)\n",
    "   \n",
    "   c.  For every nonce, check if hashed label passes $k_1/n$ threshold. Call such a label \"good\"\n",
    "   \n",
    "   d.  Return **success**  if, for any nonce, we have found at least $k_2$  good labels.\n",
    "\n",
    "For a rough estimate, let's assume we never stop in the middle of a pass (i.e., even if we found $k_2$ good labels we still do the whole pass).  This simplifies things, since the time for a single complete pass depends only on k2pow,  read and compute speed (this simplification means we always overestimate the time). Let's denote $K_i$ the number of hash invocations it takes to solve the $i^{th}$ k2pow, and $R$ the time it takes to do a single read/hash pass over the data for the $m$ nonces. \n",
    "\n",
    "R is essentially a constant that depends on the CPU/disk parameters. We can estimate $R$ by benchmarking for a small set of  $\\alpha\\cdot n$ labels, then dividing by $\\alpha$. For a single nonce batch, $K_i$ is a random variable that is [geometrically](https://en.wikipedia.org/wiki/Geometric_distribution) distributed with parameter $1/d$, where $d$ is the expected k2pow difficulty (i.e., expected number of hash invocations).  For multiple nonce batches (i.e., $r>1$), $K_i$ is the sum of $r$ geometric variables, which is distributed as a [negative binomial](https://en.wikipedia.org/wiki/Negative_binomial_distribution), with parameters $p=1/d$ and $r$.\n",
    "\n",
    "Denote $T$ the total time for $x$ passes over the data, including the k2pow. Then\n",
    "$$ T=R\\cdot x+\\frac{\\sum_{i=1}^{x} K_i}{\\text{hashrate}} $$\n",
    "\n",
    "For a single nonce, the number of good labels out of $n$ is distributed $B(n,k_1/n)$ --- that is, [binomially](https://en.wikipedia.org/wiki/Binomial_distribution) with parameters $n$ and $p=k_1/n$.  Since passes are independent, at the beginning of  every pass, the probability that this pass will be successful *for a specific nonce* is $q=Pr[B(n,k1/n) \\ge k_2]$. We are trying $m$ nonces in parallel, and a pass will fail only if *all* of the nonces fail. Since the events are independent for every nonce, the probability that a pass succeeds is $q_m = 1-(1-q)^m$.\n"
   ]
  },
  {
   "cell_type": "code",
   "execution_count": 2,
   "id": "8c22ec74-251c-4e96-8542-8376ffd5eb5f",
   "metadata": {},
   "outputs": [],
   "source": [
    "def pass_success_prob(k1: int, k2: int, m: int, n: int) -> float:\n",
    "    q = binom.sf(k2-1,n,k1/n)\n",
    "    qm = 1 - (1-q)**m\n",
    "    return qm\n"
   ]
  },
  {
   "cell_type": "markdown",
   "id": "b9327b4d-91b4-47c5-a592-c77a1f45c072",
   "metadata": {},
   "source": [
    "## Apriori duration distribution (i.e., at the beginning of a pass)\n",
    "The success of each pass is completely independent of previous successes (and also independent of $R$), so the number of passes is distributed geometrically with parameter $q_m$.  This gives us a formula for the expected time at the beginning of a pass: \n",
    "   $$E[T] = \\sum_{i=1}^{1/q_m} E[R+K_i] = \\sum_{i=1}^{1/q_m} (E[R]+E[K_i]) = (R+d\\cdot r/\\text{hashrate})/q_m \\ . $$\n",
    "\n"
   ]
  },
  {
   "cell_type": "code",
   "execution_count": 32,
   "id": "a8085725-7e1e-4978-8f1f-b042a28f57c1",
   "metadata": {},
   "outputs": [],
   "source": [
    "def expected_pass_k2pow_time(d: int, hashrate: int, r: int) -> float:\n",
    "    return d*r/hashrate\n",
    "\n",
    "def expected_total_time_apriori(R: float, d: int, hashrate: int, r: int, qm: float) -> float:\n",
    "    \"\"\" Return the total expected time to success\n",
    "    :param float R:        time to read/process labels for one pass \n",
    "    :param float d:        expected number of hashes to solve k2pow for single nonce batch\n",
    "    :param int   hashrate: number of k2pow hashes per time unit \n",
    "    :param int   r:        number of nonce batches\n",
    "    :param float qm:       probability that a single pass succeeds.\"\"\"\n",
    "    \n",
    "    return (R+expected_pass_k2pow_time(d, hashrate, r))/qm"
   ]
  },
  {
   "cell_type": "markdown",
   "id": "80f321a3-4a49-4484-a8be-aea9e67bff41",
   "metadata": {},
   "source": [
    "### Percentile Calculation\n",
    "The percentile calculation is a little more complex: the number of passes required to succeed with probability $p^*$ is $\\log(1-p^*)/\\log(1-q_m)$. (To see this, let $X$ be the number of failures before success, note that for every $x\\ge 1$, $\\Pr[X>x]=(1-q_m)^x$, then solve for $x$ such that $p^*=\\Pr[X\\le x] = 1-\\Pr[X>x]$.)\n",
    "\n",
    "If we assume the k2pow effort $K_i=d\\cdot r$ is a constant, this gives us a simple percentile calculation: $(R+d\\cdot r/\\text{hashrate})\\cdot \\log(1-p^*)/\\log(1-q_m)$.\n",
    "Since $K_i$ is not constant, computing the percentile exactly is more involved. However, we can still lower-bound the time for a given percentile.\n",
    "\n",
    "To do this, we consider separately the time for reading/processing nonces and the total k2pow time. The former is given by $R\\cdot \\log(1-p^*)/\\log(1-q_m)$. For the latter, if we condition on the number of passes being $x$, then we need to solve $x\\cdot r$ k2pows, hence the total k2pow effort $K=\\sum_{i=1}^x K_i$ is distributed as a negative binomial variable with parameters $1/d$ and $x\\cdot r$.\n",
    "\n",
    "For every $\\epsilon\\in (0,1-p^*)$, we can find $K^*$ and $x$ such that $\\Pr[K\\le K^* | X\\le x] \\ge (1-\\epsilon)$ and $\\Pr[X \\le x] \\ge p^*/(1-\\epsilon)$. Then \n",
    "    $$ \\Pr[T < Rx+K^*/\\text{hashrate}] \\ge \\Pr[X \\le x \\wedge K \\le K^*] = \\Pr[K \\le K^* | X \\le x ]\\cdot \\Pr[X \\le x] \\ge p^* $$\n",
    "    \n",
    "Thus, every $\\epsilon$ gives a bound on the time $T$ for the $p^*$ percentile. To find the best bound, we do a search over $\\epsilon\\in (0,1-p^*)$ that minimizes $Rx+K^*/\\text{hashrate}$."
   ]
  },
  {
   "cell_type": "code",
   "execution_count": 34,
   "id": "d2cac854-c547-4ad9-8fc8-2127aab1ab96",
   "metadata": {},
   "outputs": [],
   "source": [
    "def percentile_passes(pstar: float, qm: float) -> int:\n",
    "    \"\"\" Return number of passes x such that with probability at least pstar we need x passes. \"\"\"\n",
    "    return ceil(log(1-pstar)/log(1-qm))\n",
    "\n",
    "def percentile_k2pow_time(pstar: float, d: int, hashrate: int, r: int) -> float:\n",
    "    return nbinom.ppf(pstar, r + 1, 1/d) / hashrate\n",
    "\n",
    "def simple_percentile_total_time_apriori(pstar: float, R: float, d: int, hashrate: int, r: int, qm: float) -> float:\n",
    "    return (R+expected_pass_k2pow_time(d, hashrate, r))*percentile_passes(pstar, qm)\n",
    "\n",
    "# We define functions that allow the first k2pow to have a different number of batches in order to support \n",
    "# the mid-pass percentile function below.\n",
    "def percentile_bound_total_time_apriori(eps: float, pstar: float, R: float, d: int, hashrate: int, r: int, qm: float, rfirst: int = -1) -> float:\n",
    "    if (rfirst < 0):\n",
    "        rfirst = r\n",
    "    x = percentile_passes(pstar/(1-eps), qm)\n",
    "    kstar_time = percentile_k2pow_time(1-eps, d, hashrate, rfirst + r*(x-1))\n",
    "    return R*x + kstar_time\n",
    "\n",
    "\n",
    "def percentile_opt_total_time_apriori(pstar: float, R: float, d: int, hashrate: int, r: int, qm: float, rfirst: int = -1) -> float:\n",
    "    \"\"\"Find p such that Pr[X \\ge k]=q when X~Binom(n,p)\"\"\"\n",
    "    def time_bound(eps):\n",
    "        return percentile_bound_total_time_apriori(eps, pstar, R, d, hashrate, r, qm, rfirst)\n",
    "\n",
    "    bounds=(0, 1-pstar)\n",
    "        \n",
    "    res = optimize.minimize_scalar(time_bound,bounds=bounds, method='bounded', options={'xatol': 2**(-64), 'maxiter': 2**20})\n",
    "        \n",
    "    return res.fun\n"
   ]
  },
  {
   "cell_type": "markdown",
   "id": "5b99a8e0-3245-49a6-af6e-1bdf1be240c0",
   "metadata": {},
   "source": [
    "## Mid-pass duration distribution\n",
    "To analyze the duration distribution in the middle of a pass, we first analyze the remaining duration *in the current pass* (ignoring the total duration). We can denote this as \n",
    "$T'=K'/hashrate + R'$, where $K'$ is the remaining k2pow attempts for this pass, and $R'$ the remaining read/process time in this pass. \n",
    "\n",
    "### Current pass: mid-k2pow\n",
    "During the k2pow phase, $R'=R$ (since we haven't started reading yet), and the only new information we receive that can affect our time estimations is solving another k2pow out of the $r$ batches we must solve. If we have $r'$ remaining k2pows to solve, then $K'$ is distributed negative-binomially with parameters $1/d$ and $r'$.  \n",
    "\n",
    "### Current pass: post-k2pow\n",
    "After completing k2pow for this pass, $K'=0$, and $R'$ depends only on the fraction of labels we've read/processed so far. After reading $\\gamma\\cdot n$ labels, $R'=(1-\\gamma)\\cdot R$.\n",
    "\n",
    "\n",
    "### Total duration\n",
    "To compute the total remaining duration, we separate into two cases: \n",
    " 1. the current pass is successful (hence, the last pass) and\n",
    " 2. the current pass fails.\n",
    "\n",
    "In the first case, the remaining time is only the current-pass remaining time. In the second case, it's the current-pass remaining time, plus the remaining time for the additional passes. Luckily (for our analysis), if we know the current pass fails, the remaining time for the additional passes is distributed exactly the same as the apriori remaining time. \n",
    "\n",
    "Let $F$ be the event that the current pass is successful, and denote $z=\\Pr[F]$. To compute $z$, note that the number of good labels in the remaining labels is also binomially distributed, and that the success of each nonce is completely indpendent of the others, so the probability that *no* nonce will succeed is the product of the individual probabilities.\n",
    "\n",
    "\n"
   ]
  },
  {
   "cell_type": "code",
   "execution_count": 35,
   "id": "3e97b12f-46f0-4d69-968e-d99027a45cb4",
   "metadata": {},
   "outputs": [],
   "source": [
    "# This computes `z` from above\n",
    "def pass_success_prob_midpass(gamma: float, goodlabels: list[int], k1: int, k2: int, m: int, n: int) -> float:\n",
    "    '''Computes the probability that the current pass is successful\n",
    "\n",
    "    :param float     gamma: fraction of labels processed so far\n",
    "    :param list[int] goodlabels: number of good labels found for each nonce (should be of length m)\n",
    "    '''\n",
    "    nprime = floor((1-gamma) * n)  # Number of labels remaining in pass\n",
    "    unsuccessprob = 1\n",
    "    for numgood in goodlabels:\n",
    "        k2prime = k2 - numgood # Number of labels left to find for this nonce.\n",
    "        qprime = binom.sf(k2prime-1, nprime, k1/n) # Probability that this nonce is successful in this pass.\n",
    "        unsuccessprob *= (1-qprime) # The probability that none of the nonces is successful is the product of individual probabilities \n",
    "    return 1 - unsuccessprob\n",
    "    \n",
    "\n"
   ]
  },
  {
   "cell_type": "markdown",
   "id": "62685fe9-4916-4b23-851b-4dd092efa2c1",
   "metadata": {},
   "source": [
    "#### Expected remaining duration\n",
    "Following the analysis above, the expected remaining time assuming that $r'$ k2pows remain for this pass, and we read $\\gamma\\cdot n$ of the labels, is \n",
    "$$ \n",
    "  \\begin{align*}\n",
    "  E[\\text{remaining time}]  &= \\Pr[F]\\cdot E[T|F]+(1-\\Pr[F])\\cdot E[T|\\neg F] \\\\\n",
    "                            &= z\\cdot E[T']+(1-z)\\cdot (E[T']+E[T]) \\\\\n",
    "                            &= E[T']+(1-z)\\cdot E[T] \\\\\n",
    "                            &= r'\\cdot d/\\text{hashrate}+(1-\\gamma)\\cdot R +(1-z)\\cdot E[T]\n",
    "  \\end{align*}\n",
    "$$\n",
    "where $E[T]$ is the expected apriori duration.\n",
    "\n"
   ]
  },
  {
   "cell_type": "code",
   "execution_count": 36,
   "id": "ecbe89bb-da51-4b5d-acc8-44cd0f168b82",
   "metadata": {},
   "outputs": [],
   "source": [
    "\n",
    "def expected_total_time_midpass(rprime: int, gamma: float, goodlabels: list[int], R: float, d: int, hashrate: int, r: int, k1: int, k2: int, m: int, n: int) -> float:\n",
    "    z = pass_success_prob_midpass(gamma, goodlabels, k1, k2, m, n) # Probability of current pass success\n",
    "    qm = pass_success_prob(k1, k2, m, n) # A-priori probability of pass success\n",
    "\n",
    "    return  expected_pass_k2pow_time(d, hashrate, rprime)+ (1-gamma)*R + (1-z)*expected_total_time_apriori(R, d, hashrate, r, qm)\n"
   ]
  },
  {
   "cell_type": "markdown",
   "id": "cdbd4e4c-3fa5-4de1-a4a2-5b236954a3ba",
   "metadata": {},
   "source": [
    "### Percentile remaining duration.\n",
    "\n",
    "To compute the $p^*$-percentile --- that is, the total time $T^*$ such that we will succeed within time $T^*$ with probability at least $p^*$, we again have to consider subcases:\n",
    "\n",
    "1. We're still in the k2pow phase ($r'>0$). In this case, the percentile calculation is exactly the same as the apriori calculation, except the total number of k2pows in the first round is smaller.\n",
    "2. We're in the read/process phase ($r'=0$). In this case, we consider two subcases:\n",
    "\n",
    "    1. $\\Pr[F]\\ge p^*$: i.e., the probability that we succeed in the current pass is at least $p^*$. In this case, the time $T^*$ is just the time remaining in the current pass: $(1-\\gamma)\\cdot R$\n",
    "\n",
    "    2. $\\Pr[F] < p^*$: in this case let $\\hat T$ be the total time until success.\n",
    "   \n",
    "       Then $\\Pr[\\hat T>T^*] = (1-z)\\cdot \\Pr[\\hat T>T^* | \\neg F] + z\\cdot \\Pr[\\hat T>T^* | F]$. However, since we know that $T^*$ must be greater than the remaining time in the current pass (otherwise we would be in case (a)), $\\Pr[\\hat T>T^* | F] = 0$. Thus, $\\Pr[\\hat T>T^*] = (1-z)\\cdot \\Pr[\\hat T>T^* | \\neg F]$. Conditioned on the current pass failing, we know that we will require at least the current pass, plus $T$ additional time, where $T$ is distributed according to the apriori distribution above (without conditioning).\n",
    "   \n",
    "       Hence\n",
    "       $$ \\Pr[\\hat T>T^*] = (1-z)\\cdot \\Pr[T > T^* - (1-\\gamma)\\cdot R] \\ . $$\n",
    "\n",
    "       To find $T^*$ such that  $\\Pr[\\hat T>T^*] \\le 1-p^*$, we must find $T^\\dagger=T^*-(1-\\gamma)\\cdot R$ such that $Pr[T > T^\\dagger] \\le \\frac{1-p^*}{1-z}$; that is, we take the $\\left(1-\\frac{1-p^*}{1-z}\\right)$-percentile apriori duration, and add $(1-\\gamma)\\cdot R$.\n"
   ]
  },
  {
   "cell_type": "code",
   "execution_count": 37,
   "id": "99e1b599-bb6b-436d-8c45-09b08fab722a",
   "metadata": {},
   "outputs": [],
   "source": [
    "def percentile_total_time_midpass(pstar: float, rprime: int, gamma: float, goodlabels: list[int], R: float, d: int, hashrate: int, r: int, k1: int, k2: int, m: int, n: int) -> float:\n",
    "    qm = pass_success_prob(k1, k2, m, n) # A-priori probability of pass success\n",
    "    if rprime > 0:\n",
    "        # We're in the k2pow phase (case 1)\n",
    "        return percentile_opt_total_time_apriori(pstar, R, d, hashrate, r, qm, rprime)\n",
    "\n",
    "    # Were in case (2)        \n",
    "    z = pass_success_prob_midpass(gamma, goodlabels, k1, k2, m, n) # Probability of current pass success\n",
    "\n",
    "    if z >= pstar:\n",
    "        # case 2(a)\n",
    "        return (1-gamma)*R\n",
    "        \n",
    "    # case 2(b)\n",
    "    tdagger = percentile_opt_total_time_apriori(1-(1-pstar)/(1-z), R, d, hashrate, r, qm)\n",
    "\n",
    "    return tdagger + (1-gamma)*R"
   ]
  },
  {
   "cell_type": "markdown",
   "id": "cf447e51-0902-4e14-ba84-88a8fd5908e8",
   "metadata": {},
   "source": [
    "## Examples"
   ]
  },
  {
   "cell_type": "code",
   "execution_count": 44,
   "id": "1b9a37d3-3188-4803-8126-8c3139bd638e",
   "metadata": {},
   "outputs": [
    {
     "data": {
      "text/markdown": [
       "\n",
       "### Global parameters\n",
       "* $k_1=26$\n",
       "* $k_2=37$\n",
       "* $b = 16$ (Number of nonces in a k2pow batch).\n",
       "* $SU = 2^{ 34.0 }$ labels.\n",
       "* $d = 2^{ 12.2 }$ (expected k2pow hashes per nonce batch for one SU).\n"
      ],
      "text/plain": [
       "<IPython.core.display.Markdown object>"
      ]
     },
     "metadata": {},
     "output_type": "display_data"
    }
   ],
   "source": [
    "## Protocol parameters\n",
    "\n",
    "### Hashing-related\n",
    "nonce_batch_size = 16 # Number of nonces in a \"batch\" \n",
    "unit_size = 256 # unit size in GiB\n",
    "label_size = 16 # Label size in bytes\n",
    "\n",
    "labels_per_unit = unit_size * 2**30 / label_size\n",
    "\n",
    "### Post Params\n",
    "k1 = 26\n",
    "k2 = 37\n",
    "\n",
    "postPowDifficulty = 0x000dfb23b0979b4b  # Per-nonce-batch difficulty for one SU * 2^64?\n",
    "\n",
    "def k2pow_d(n: int):\n",
    "    \"\"\" Difficulty for a single nonce batch and n total labels \"\"\"\n",
    "    return 2**64 * n/(labels_per_unit * postPowDifficulty)\n",
    "\n",
    "dm(f\"\"\"\n",
    "### Global parameters\n",
    "* $k_1={k1}$\n",
    "* $k_2={k2}$\n",
    "* $b = {nonce_batch_size}$ (Number of nonces in a k2pow batch).\n",
    "* $SU = 2^{{ {log(labels_per_unit,2):.1f} }}$ labels.\n",
    "* $d = 2^{{ {log(k2pow_d(labels_per_unit),2):.1f} }}$ (expected k2pow hashes per nonce batch for one SU).\n",
    "\"\"\")\n",
    "\n",
    "## Node-specific parameters\n",
    "class PoSTer:\n",
    "    def __init__(self, name, cpu_aes_MiB_sec_for_nonce_batch, read_mb_per_sec, randomx_per_sec):\n",
    "        self.name = name\n",
    "        self.cpu_aes_MiB_sec_for_nonce_batch = cpu_aes_MiB_sec_for_nonce_batch\n",
    "        self.read_mb_per_sec = read_mb_per_sec\n",
    "        self.randomx_per_sec = randomx_per_sec # single-threaded k2pow performance\n",
    "        \n",
    "        # Computed values\n",
    "        self.nonce_labels_sec = (self.cpu_aes_MiB_sec_for_nonce_batch * 2**20 * nonce_batch_size) / label_size\n",
    "        self.read_labels_sec = self.read_mb_per_sec * 2**20 / label_size\n",
    "\n",
    "    def label_process_time(self, n, m):  # R from the analysis above\n",
    "        ''' Time to process n labels in seconds'''\n",
    "        return n/min(self.nonce_labels_sec / m,  self.read_labels_sec) \n",
    "\n",
    "    def expected_k2pow_time(self, n, r, threads=1): # expected total time for r k2pow solutions\n",
    "        return expected_pass_k2pow_time(k2pow_d(n), self.randomx_per_sec * threads, r)\n",
    "    \n",
    "    # Returns expected total remaining time\n",
    "    def expected_remaining_time(self, k2pows_found, labels_processed, goodlabels, n, m, threads=1): \n",
    "        R = self.label_process_time(n, m)\n",
    "        hashrate = self.randomx_per_sec * threads\n",
    "        gamma = labels_processed / n\n",
    "        d = k2pow_d(n)\n",
    "        r = m / nonce_batch_size\n",
    "        \n",
    "        return expected_total_time_midpass(r - k2pows_found, gamma, goodlabels, R, d, hashrate, r, k1, k2, m, n)\n",
    "\n",
    "    def percentile_k2pow_time(self, pstar, n, r, threads=1): # expected total time for r k2pow solutions\n",
    "        return percentile_k2pow_time(pstar, k2pow_d(n), self.randomx_per_sec * threads, r)\n",
    "    \n",
    "    def percentile_remaining_time(self, pstar, k2pows_found, labels_processed, goodlabels, n, m, threads=1):  \n",
    "        R = self.label_process_time(n, m)\n",
    "        hashrate = self.randomx_per_sec * threads\n",
    "        gamma = labels_processed / n\n",
    "        d = k2pow_d(n)\n",
    "        r = m / nonce_batch_size\n",
    "                \n",
    "        return percentile_total_time_midpass(pstar, r - k2pows_found, gamma, goodlabels, R, d, hashrate, r, k1, k2, m, n)\n",
    "\n",
    "posters = {\n",
    "   'fast': PoSTer(\"i7-12700k/slow SSD\", cpu_aes_MiB_sec_for_nonce_batch=2028, read_mb_per_sec=200, randomx_per_sec=814.71),\n",
    "   'slow': PoSTer(\"Intel(R) Pentium(R) Silver J5040 CPU @ 2.00GHz/fast HDD\", cpu_aes_MiB_sec_for_nonce_batch=663, read_mb_per_sec = 150, randomx_per_sec=272.16),\n",
    "}"
   ]
  },
  {
   "cell_type": "code",
   "execution_count": 68,
   "id": "a3f5ef13-222f-4f12-8019-d2f65d4b2bbe",
   "metadata": {},
   "outputs": [
    {
     "data": {
      "text/markdown": [
       "\n",
       "### Sample node parameters\n",
       "Using 4 units of space, i.e., $n=2^{ 36.0 }$ and $m=64$ parallel nonces ($r=4.0$ nonce batches per pass)\n",
       "\n",
       "A single pass succeeds w.p. $2^{ -0.33 }$\n",
       "\n",
       "A(n) i7-12700k/slow SSD can:\n",
       "* Perform $2^{ 9.7 }$ k2pow hashes per second (single-threaded)\n",
       "* Hash $2^{ 31.0 }$ labels per second (for a single nonce) and\n",
       "* Read $2^{ 23.6 }$ labels per second.\n",
       "\n",
       "## Apriori durations\n",
       "\n",
       "### Expected time\n",
       "* Expected total time: $E[T]=200.9$ minutes.\n",
       "* The expected number of passes is $1.26$\n",
       "* Expected k2pow time: $1.5$ minutes per pass, $1.9$ minutes total\n",
       "\n",
       "### $75^{th}$-percentile\n",
       "* For $T^* = 179.0$ minutes, $\\Pr[T > T^*] < 0.75$.\n",
       "* The number of passes is at most $1$ with probability 0.75.\n",
       "* k2pow time exceeds $2.4$ minutes per pass with less than 25% probability\n",
       "\n",
       "\n",
       "### $99^{th}$-percentile\n",
       "* For $T^* = 360.4$ minutes, $\\Pr[T > T^*] < 0.99$.\n",
       "* The number of passes is at most $3$ with probability 0.99.\n",
       "* k2pow time exceeds $4.5$ minutes per pass with less than 1% probability\n",
       "\n"
      ],
      "text/plain": [
       "<IPython.core.display.Markdown object>"
      ]
     },
     "metadata": {},
     "output_type": "display_data"
    }
   ],
   "source": [
    "# Number of units\n",
    "su = 4\n",
    "m = 64\n",
    "r = m/nonce_batch_size\n",
    "\n",
    "# Number of labels\n",
    "n = labels_per_unit * su\n",
    "\n",
    "qm = pass_success_prob(k1,k2,m,n)\n",
    "   \n",
    "poster = posters['fast']\n",
    "\n",
    "dm(f'''\n",
    "### Sample node parameters\n",
    "Using {su} units of space, i.e., $n=2^{{ {log(n,2)} }}$ and $m={m}$ parallel nonces ($r={r}$ nonce batches per pass)\n",
    "\n",
    "A single pass succeeds w.p. $2^{{ {log(qm,2):.2f} }}$\n",
    "\n",
    "A(n) {poster.name} can:\n",
    "* Perform $2^{{ {log(poster.randomx_per_sec,2):.1f} }}$ k2pow hashes per second (single-threaded)\n",
    "* Hash $2^{{ {log(poster.nonce_labels_sec,2):.1f} }}$ labels per second (for a single nonce) and\n",
    "* Read $2^{{ {log(poster.read_labels_sec,2):.1f} }}$ labels per second.\n",
    "\n",
    "## Apriori durations\n",
    "\n",
    "### Expected time\n",
    "* Expected total time: $E[T]={poster.expected_remaining_time(0, 0, [], n, m, threads=1)/60:.1f}$ minutes.\n",
    "* The expected number of passes is ${1/qm:.2f}$\n",
    "* Expected k2pow time: ${poster.expected_k2pow_time(n, r)/60:.1f}$ minutes per pass, ${poster.expected_k2pow_time(n, r/qm)/60:.1f}$ minutes total\n",
    "\n",
    "### $75^{{th}}$-percentile\n",
    "* For $T^* = {poster.percentile_remaining_time(0.75,0, 0, [], n, m, threads=1)/60:.1f}$ minutes, $\\Pr[T > T^*] < 0.75$.\n",
    "* The number of passes is at most ${percentile_passes(0.75,qm)}$ with probability 0.75.\n",
    "* k2pow time exceeds ${poster.percentile_k2pow_time(0.75, n, r)/60:.1f}$ minutes per pass with less than 25% probability\n",
    "\n",
    "\n",
    "### $99^{{th}}$-percentile\n",
    "* For $T^* = {poster.percentile_remaining_time(0.99,0, 0, [], n, m, threads=1)/60:.1f}$ minutes, $\\Pr[T > T^*] < 0.99$.\n",
    "* The number of passes is at most ${percentile_passes(0.99,qm)}$ with probability 0.99.\n",
    "* k2pow time exceeds ${poster.percentile_k2pow_time(0.99, n, r)/60:.1f}$ minutes per pass with less than 1% probability\n",
    "\n",
    "''')\n",
    "\n"
   ]
  },
  {
   "cell_type": "code",
   "execution_count": 65,
   "id": "cebdf41a-8d69-4249-bb18-2eed00978a3d",
   "metadata": {},
   "outputs": [
    {
     "data": {
      "text/markdown": [
       "\n",
       "## Mid-pass, found $r'=1$ of $4$ k2pows\n",
       "* Expected k2pow time remaining in this pass: $1.2$ minutes\n",
       "* Total remaining time is less than $178.6$ minutes with 75% probability.\n",
       "* Total remaining time is less than $359.9$ minutes with 99% probability.\n"
      ],
      "text/plain": [
       "<IPython.core.display.Markdown object>"
      ]
     },
     "metadata": {},
     "output_type": "display_data"
    }
   ],
   "source": [
    "dm(f'''\n",
    "## Mid-pass, found $r'={ceil(r/4)}$ of ${floor(r)}$ k2pows\n",
    "* Expected k2pow time remaining in this pass: ${poster.expected_k2pow_time(n, r-ceil(r/4))/60:.1f}$ minutes\n",
    "* Total remaining time is less than ${poster.percentile_remaining_time(0.75,ceil(r/4), 0, [], n, m, threads=1)/60:.1f}$ minutes with 75% probability.\n",
    "* Total remaining time is less than ${poster.percentile_remaining_time(0.99,ceil(r/4), 0, [], n, m, threads=1)/60:.1f}$ minutes with 99% probability.\n",
    "''')"
   ]
  },
  {
   "cell_type": "code",
   "execution_count": 88,
   "id": "96b5e0e4-6434-41f2-a560-0babb5ceeb81",
   "metadata": {},
   "outputs": [
    {
     "data": {
      "text/markdown": [
       "\n",
       "## Mid-pass, post-k2pow, read/processed $46870560306$ out of $68719476736$ ($\\gamma=0.68$)\n",
       "* goodlabels=[21 24 20 20 14 22 15 28 19 16 16 10 18 20 21 22 22 15 18 14 12 13 15 16\n",
       " 16 16 13 16 13 24 18  9 14 12 17 26 15 17 14 15 10 19 13 17 11 17 13 14\n",
       " 14  9 17 17 19 13 15 19 21 24 18 19 18  9 20 21]\n",
       "* Remaining pass time: $27.8$ out of $87.4$ minutes.\n",
       "* Expected total time remaining: $60.9$ minutes.\n",
       "* Tme remaining is less than $116.3$ minutes with 75% probability.\n",
       "* Tme remaining is less than $298.0$ minutes with 99% probability.\n"
      ],
      "text/plain": [
       "<IPython.core.display.Markdown object>"
      ]
     },
     "metadata": {},
     "output_type": "display_data"
    }
   ],
   "source": [
    "# Find a random \"midpass\" setup.\n",
    "\n",
    "nprocessed = random.randint(1,n) # Uniformly distributed in the middle\n",
    "goodlabels = binom.rvs(nprocessed, k1/n, size=m) # m binomially distributed values (number of good labels found so far for each nonce)\n",
    "gamma = nprocessed / n\n",
    "\n",
    "dm(f'''\n",
    "## Mid-pass, post-k2pow, read/processed ${nprocessed}$ out of ${ceil(n)}$ ($\\gamma={gamma:.2f}$)\n",
    "* goodlabels={goodlabels}\n",
    "* Remaining pass time: ${poster.label_process_time(n-nprocessed, m)/60:.1f}$ out of ${poster.label_process_time(n, m)/60:.1f}$ minutes.\n",
    "* Expected total time remaining: ${poster.expected_remaining_time(r, nprocessed, goodlabels, n, m)/60:.1f}$ minutes.\n",
    "* Tme remaining is less than ${poster.percentile_remaining_time(0.75,r, nprocessed, goodlabels, n, m)/60:.1f}$ minutes with 75% probability.\n",
    "* Tme remaining is less than ${poster.percentile_remaining_time(0.99,r, nprocessed, goodlabels, n, m)/60:.1f}$ minutes with 99% probability.\n",
    "''')"
   ]
  }
 ],
 "metadata": {
  "kernelspec": {
   "display_name": "Python 3 (ipykernel)",
   "language": "python",
   "name": "python3"
  },
  "language_info": {
   "codemirror_mode": {
    "name": "ipython",
    "version": 3
   },
   "file_extension": ".py",
   "mimetype": "text/x-python",
   "name": "python",
   "nbconvert_exporter": "python",
   "pygments_lexer": "ipython3",
   "version": "3.11.4"
  }
 },
 "nbformat": 4,
 "nbformat_minor": 5
}
