{
 "cells": [
  {
   "cell_type": "markdown",
   "id": "7ca2c837-b893-47b9-9d16-e17a232afac1",
   "metadata": {},
   "source": [
    "# Analysis for PoST Parameters\n",
    "The proof consists of a single nonce and several \"good\" labels."
   ]
  },
  {
   "cell_type": "code",
   "execution_count": 1,
   "id": "9c55b3be-953c-47ff-a2d1-0ef7bf1ce4b3",
   "metadata": {},
   "outputs": [],
   "source": [
    "from IPython.display import display,Math,Markdown\n",
    "from scipy.stats import binom\n",
    "import math\n",
    "from math import log, floor, ceil, sqrt\n",
    "\n",
    "def dm(str):\n",
    "    display(Markdown(str))\n"
   ]
  },
  {
   "cell_type": "markdown",
   "id": "6c4ce00b-e7c7-4093-8e7e-819201b201f2",
   "metadata": {},
   "source": [
    "## Honest Parameters"
   ]
  },
  {
   "cell_type": "code",
   "execution_count": 2,
   "id": "06afcc71-0b3a-4206-9759-df2885e3c230",
   "metadata": {},
   "outputs": [],
   "source": [
    "## Global Parameters\n",
    "\n",
    "unit_size = 256 # unit size in GiB\n",
    "label_size = 16 # Label size in bytes\n",
    "\n",
    "PoST_cells_per_label = 16 # Number of PoST cells per label (each one costs an scrypt to generate/verify)\n",
    "scrypt_iterations_per_PoST_cell = 8192\n",
    "\n",
    "n = unit_size * 2**30 / label_size # Total number of labels for one space unit\n",
    "\n",
    "honest_opt_error = 1/100 # Honest users should fail with at most this probability with {honest_nonces} nonces.\n",
    "honest_min_error = 2**(-20) # We also compute the number of nonces to achieve this error.\n",
    "\n",
    "### Hashing-related\n",
    "nonce_batch_size = 16 # Number of nonces in a \"batch\" \n",
    "\n",
    "## Node-specific parameters\n",
    "class PoSTer:\n",
    "    def __init__(self, name, cpu_aes_MiB_sec_for_nonce_batch, read_mb_per_sec, scrypt_per_sec):\n",
    "        self.name = name\n",
    "        self.cpu_aes_MiB_sec_for_nonce_batch = cpu_aes_MiB_sec_for_nonce_batch\n",
    "        self.read_mb_per_sec = read_mb_per_sec\n",
    "        self.scrypt_per_sec = scrypt_per_sec\n",
    "        \n",
    "        # Computed values\n",
    "        self.nonce_labels_sec = (self.cpu_aes_MiB_sec_for_nonce_batch * 2**20 * nonce_batch_size) / label_size\n",
    "        self.read_labels_sec = self.read_mb_per_sec * 2**20 / label_size\n",
    "\n",
    "        # Time to initialize space unit *on a CPU* in seconds\n",
    "        # This is used to compute the PoW times.\n",
    "        self.cpu_init_time =  n * PoST_cells_per_label / scrypt_per_sec\n",
    "    \n",
    "\n",
    "posters = {\n",
    "   'fast': PoSTer(\"i7-12700k/slow SSD\", cpu_aes_MiB_sec_for_nonce_batch=2028, read_mb_per_sec=200, scrypt_per_sec=2**13),\n",
    "   'slow': PoSTer(\"Intel(R) Pentium(R) Silver J5040 CPU @ 2.00GHz/fast HDD\", cpu_aes_MiB_sec_for_nonce_batch=663, read_mb_per_sec = 150, scrypt_per_sec=2**11.843),\n",
    "}"
   ]
  },
  {
   "cell_type": "markdown",
   "id": "ffacc051-7f15-435d-b68b-2b0cf02752a7",
   "metadata": {},
   "source": [
    "## Adversarial Parameters\n",
    "\n",
    "We use these parameters to compute the minimal number of good labels needed."
   ]
  },
  {
   "cell_type": "code",
   "execution_count": 3,
   "id": "259bcb80-b4a7-4b6f-9065-c7c31c7e63a2",
   "metadata": {},
   "outputs": [
    {
     "data": {
      "text/markdown": [
       "#### The adversarial PoW advantage is"
      ],
      "text/plain": [
       "<IPython.core.display.Markdown object>"
      ]
     },
     "metadata": {},
     "output_type": "display_data"
    },
    {
     "data": {
      "text/markdown": [
       "* **i7-12700k/slow SSD**: Advantage is ~3107"
      ],
      "text/plain": [
       "<IPython.core.display.Markdown object>"
      ]
     },
     "metadata": {},
     "output_type": "display_data"
    },
    {
     "data": {
      "text/markdown": [
       "* **Intel(R) Pentium(R) Silver J5040 CPU @ 2.00GHz/fast HDD**: Advantage is ~6928"
      ],
      "text/plain": [
       "<IPython.core.display.Markdown object>"
      ]
     },
     "metadata": {},
     "output_type": "display_data"
    }
   ],
   "source": [
    "# Multiplicative advantage for adversary in solving rate-limiting PoW vs CPU-solving honest party\n",
    "adv_init_time = 60*60*3 # Adversarial initialization time (for a single space unit) in seconds (assuming a super-fast GPU)\n",
    "\n",
    "# We use time as a proxy for cost...\n",
    "def adv_pow_advantage(honest_cpu_init_time):\n",
    "    return honest_cpu_init_time / adv_init_time # If fastest adversary solves PoW in 1 second, then a (slow) honest user on CPU takes `adv_pow_advantage` seconds.\n",
    "\n",
    "def adv_pow_advantage_for_PoSTer(poster):\n",
    "    return adv_pow_advantage(poster.cpu_init_time)\n",
    "\n",
    "dm(rf\"\"\"#### The adversarial PoW advantage is\"\"\")\n",
    "for poster in posters.values():\n",
    "    dm(rf\"* **{poster.name}**: Advantage is ~{round(adv_pow_advantage_for_PoSTer(poster))}\")\n"
   ]
  },
  {
   "cell_type": "markdown",
   "id": "7c30ee2a-74e6-483c-b529-d4c9e8a5a497",
   "metadata": {},
   "source": [
    "### Finding $q$\n",
    "\n",
    "We're trying to maximize the gap between the honest success probability and the adversarial success. This gap grows with the inverse of $q$, so the optimal $q$ is just bounded by the honest success probability (or, equivalently, by the expected number of nonces the honest parties must try)"
   ]
  },
  {
   "cell_type": "code",
   "execution_count": 4,
   "id": "06f1cd2f-299b-40e8-886c-c219a19d866a",
   "metadata": {
    "tags": []
   },
   "outputs": [],
   "source": [
    "# Find q that guarantees honest users will succeed with honest_nonces except with probability honest_opt_error\n",
    "def find_q(honest_opt_error, honest_nonces):\n",
    "    return 1-(honest_opt_error)**(1/honest_nonces)\n",
    "\n",
    "def find_q_from_expected_nonces(expected_honest_nonces):\n",
    "    return 1/expected_honest_nonces"
   ]
  },
  {
   "cell_type": "markdown",
   "id": "45e8c95c-3574-49b1-a158-ccb191354526",
   "metadata": {},
   "source": [
    "## Inverse calculations and optimizations"
   ]
  },
  {
   "cell_type": "markdown",
   "id": "2c4e98b2-48b6-4229-926f-05996db3dd6f",
   "metadata": {},
   "source": [
    "### Finding $p$ given $k$ and $q$"
   ]
  },
  {
   "cell_type": "code",
   "execution_count": 5,
   "id": "382f110f-b145-430f-b3fd-68de68b99bb5",
   "metadata": {
    "tags": []
   },
   "outputs": [],
   "source": [
    "from scipy import optimize\n",
    "\n",
    "# Find the p that minimizes, for a binomially distributed variable Binom with parameters n,p, the error\n",
    "# |Pr[Binom(n,p) >= k] - q|. \n",
    "def find_p(k2: int, n1: int, q1: float):\n",
    "    \"\"\"Find p such that Pr[X \\ge k]=q when X~Binom(n,p)\"\"\"\n",
    "    def p_error(k1):\n",
    "        if k1 <= 0: \n",
    "            return math.inf\n",
    "        actualq = binom.sf(k2,n1,k1/n1)\n",
    "        if actualq == 0 or q > 2**(-20) and actualq < 2**(-40):\n",
    "            return 3-k1/n1\n",
    "        elif actualq == 1 or q < (1-2**(-20)) and actualq > (1-2**(-40)):\n",
    "            return 2+k1/n1\n",
    "        return (q1 - actualq)**2\n",
    "\n",
    "    bounds=(0, 3*k2)\n",
    "        \n",
    "    res = optimize.minimize_scalar(p_error,bounds=bounds, method='bounded', options={'xatol': 2**(-64), 'maxiter': 2**20})\n",
    "        \n",
    "    return res.x/n1\n",
    "\n",
    "# Finding q given p\n",
    "def find_q_given_p(k2, n, p):\n",
    "    return binom.sf(k2, n, p)\n",
    "\n",
    "def find_q_given_k1(k1, k2, n):\n",
    "    return find_q_given_p(k2, n, k1/n)"
   ]
  },
  {
   "cell_type": "markdown",
   "id": "df024c19-36ee-4b26-98ac-a5be7f32eaa8",
   "metadata": {},
   "source": [
    "### Optimizing Honest Nonces\n",
    "Here, we're trying to find the maximum number of nonces that allow honest users on \"fast\" computers to read at I/O speed."
   ]
  },
  {
   "cell_type": "code",
   "execution_count": 6,
   "id": "0578b7e5-3b19-4683-ad5e-2996822bacff",
   "metadata": {},
   "outputs": [],
   "source": [
    "def expected_honest_nonces(q):\n",
    "    return 1/q\n",
    "\n",
    "# Number of nonces that succeed with probability `percentile`\n",
    "def percentile_honest_nonces(q, percentile):\n",
    "    if q == 1:\n",
    "        return 1\n",
    "    return ceil(log(1-percentile)/log(1-q))\n",
    "\n",
    "# number of parallel nonces to equalize read time and hashing time (not necessarily an integer)\n",
    "def break_even_nonces(nonce_labels_per_sec, read_labels_per_sec):\n",
    "    return nonce_labels_per_sec / read_labels_per_sec \n"
   ]
  },
  {
   "cell_type": "markdown",
   "id": "fbd0a346-56fe-4137-9712-7a3642f71b81",
   "metadata": {},
   "source": [
    "### Optimizing Parallel Nonces"
   ]
  },
  {
   "cell_type": "code",
   "execution_count": 7,
   "id": "f8a54929-f7e4-433c-a86c-fc40436a54d3",
   "metadata": {},
   "outputs": [],
   "source": [
    "# Actual labels-per-second for a given number of parallel nonces (this is either dominated by hash speed or by read speed)\n",
    "# This isn't quite accurate, because nonces are computed in batches, and the nonce speed is maximal only for integer multiples of the batch size.\n",
    "# However, we take care of this in the optimization step\n",
    "def labels_per_sec(nonce_labels_per_sec, read_labels_per_sec, parallel_nonces):\n",
    "    return min(nonce_labels_per_sec / parallel_nonces, read_labels_per_sec)\n",
    "\n",
    "def expected_total_passes(parallel_nonces, q):\n",
    "    q1 = 1-(1-q)**parallel_nonces # Probability of success in a single pass.\n",
    "    return 1/q1\n",
    "\n",
    "# Number of passes that succeed with probability `percentile`\n",
    "# We're currently ignoring the possibility of a partial pass (i.e., finding k2 good labels with less than one pass)\n",
    "def percentile_total_passes(parallel_nonces, q, percentile):\n",
    "    q1 = 1-(1-q)**parallel_nonces # Probability of success in a single pass.\n",
    "    if q1 == 1:\n",
    "        return 1\n",
    "    return ceil(log(1-percentile)/log(1-q1))\n",
    "\n",
    "def expected_total_time_per_label(nonce_labels_per_sec, read_labels_per_sec, parallel_nonces, q):\n",
    "    return expected_total_passes(parallel_nonces, q) / labels_per_sec(nonce_labels_per_sec, read_labels_per_sec, parallel_nonces)\n",
    "\n",
    "\n",
    "def percentile_total_time_per_label(nonce_labels_per_sec, read_labels_per_sec, parallel_nonces, q, percentile):\n",
    "    return percentile_total_passes(parallel_nonces, q, percentile) / labels_per_sec(nonce_labels_per_sec, read_labels_per_sec, parallel_nonces)\n",
    "\n",
    "\n",
    "def expected_time_per_pass(nonce_labels_per_sec, read_labels_per_sec, q, parallel_nonces):\n",
    "    expected_time_per_label = expected_total_time_per_label(hash_labels_per_sec, read_labels_per_sec, parallel_nonces,q)\n",
    "    time_per_pass = expected_time_per_label * n / 60\n",
    "    return time_per_pass\n",
    "\n",
    "def percentile_time_per_pass(nonce_labels_per_sec, read_labels_per_sec, q, parallel_nonces, percentile):\n",
    "    percentile_time_per_label =  percentile_total_time_per_label(hash_labels_per_sec, read_labels_per_sec, parallel_nonces, q, percentile)\n",
    "    time_per_pass = percentile_time_per_label * n / 60\n",
    "    return time_per_pass\n",
    "\n",
    "\n",
    "def display_optimized_nonces(parallel_nonces, nonce_labels_per_sec, read_labels_per_sec, q, n, percentile):\n",
    "    mb_per_sec = read_labels_per_sec * label_size / 2**20\n",
    "    e_time_per_label = expected_total_time_per_label(nonce_labels_per_sec, read_labels_per_sec, parallel_nonces,q)\n",
    "    p_time_per_label = percentile_total_time_per_label(nonce_labels_per_sec, read_labels_per_sec, parallel_nonces, q, percentile)\n",
    "    \n",
    "    dm(rf\"\"\"##### Optimized execution for $2^{{ {log(nonce_labels_per_sec,2):.2f} }}$ nonces per label/sec, ${mb_per_sec:.2f}$ MB/sec read rate\n",
    "* Optimal number of parallel nonces: {parallel_nonces}\n",
    "  - will take {expected_total_passes(parallel_nonces,q):.2f} passes in expectation\n",
    "      - ${{ {round(percentile*100)} }}^{{th}}$-percentile is {percentile_total_passes(parallel_nonces, q, percentile):.2f} passes\n",
    "  - Expected total time per label is {e_time_per_label:.2e} seconds.\n",
    "      - ${{ {round(percentile*100)} }}^{{th}}$-percentile time per label is {p_time_per_label:.2e} seconds\n",
    "  - Expected total time for $2^{{ {log(n,2):.2f} }}$ labels is ${e_time_per_label * n / 60:.2f}$ minutes.\n",
    "      - ${{ {round(percentile*100)} }}^{{th}}$-percentile time is ${p_time_per_label * n / 60:.2f}$ minutes.\n",
    "\"\"\")\n"
   ]
  },
  {
   "cell_type": "markdown",
   "id": "2c45843d-4077-46ca-b55f-58220a94ae1a",
   "metadata": {},
   "source": [
    "## Computing Rate-limiting PoW difficulty and time"
   ]
  },
  {
   "cell_type": "markdown",
   "id": "5f173d03-0358-4690-9cf8-e96b3552073f",
   "metadata": {},
   "source": [
    "### Adversarial work\n",
    "\n",
    "We denote $W(c)$ the *expected* amount of work the adversary must do to generate a valid proof for one unit of space while storing only a $c$ fraction of the unit.\n",
    "We use two units to measure cost: the storage cost, $S$ (for a single unit of spacetime) and the init cost $I$ for a single unit of space. Denote $\\alpha=I/S$ (by our parameter selection, we expect $\\alpha > 1$).\n",
    "\n",
    "When storing a $c$ fraction of the space, the adversary pays at least $c\\cdot S = (c/\\alpha)\\cdot I$ in storage cost, and then an additional $W(c)\\cdot I$ init-units in PoW costs. \n",
    "If the PoW cost for trying a single nonce is $w$,then $W(c)=w\\cdot E(\\text{number of nonces tried until solution when storing a $c$ fraction})$.\n",
    "\n",
    "Note that the adversary has an advantage in cost of running the PoW compared to the honest user (e.g., the honest users would probably use CPU vs. the adversary who is using a GPU or an ASIC). We denote $adv$ the advantage factor.\n",
    "\n",
    "Therefore the honest party pays $S = I/\\alpha$ in storage cost, and expected $W(1)\\cdot adv \\cdot I$ init-units in PoW costs.\n",
    "\n",
    "The adversary's expected advantage is thus:\n",
    "$$\n",
    "    \\frac{1/\\alpha + W(1)\\cdot adv}{c/\\alpha + W(c)}\n",
    "$$\n",
    "\n",
    "For every value of $c\\le 1$ and $adv \\ge 1$, the advantage is monotone decreasing in $\\alpha$ (i.e., the higher the value of $\\alpha$, the lower the advantage). Thus, we can bound the adversarial advantage by taking the minimal value of $\\alpha=1$, giving the bound:\n",
    "\n",
    "$$\n",
    "    \\frac{1 + W(1)\\cdot adv}{c + W(c)}\n",
    "$$"
   ]
  },
  {
   "cell_type": "code",
   "execution_count": 8,
   "id": "1a23103a-68a7-4f2d-b4fd-8bc32504c5b8",
   "metadata": {
    "tags": []
   },
   "outputs": [],
   "source": [
    "# The equivalent of w init units in PoST cells\n",
    "def PoST_cell_equivalent_for_w(w, n):\n",
    "    return n * PoST_cells_per_label * w\n",
    "\n",
    "# Log2 of the expected number of nonces the adversary must try to find a valid proof.\n",
    "def log_adversarial_nonces(c, k1, k2, n):\n",
    "    p = k1/n\n",
    "    adv_log_prob = binom.logsf(k2, ceil(c*n), p)/log(2) # (Log2 of) Probability that the adversary finds a good proof for a single nonce\n",
    "    return -adv_log_prob\n",
    "    \n",
    "# A lower bound on the expected adversarial cost in init units.\n",
    "def adversarial_cost(c, k1, k2, n, w):    \n",
    "    return c + w * 2**log_adversarial_nonces(c, k1, k2, n)\n",
    "      \n",
    "def adversarial_advantage(c, k1, k2, n, w, adv_pow_advantage):\n",
    "    q = find_q_given_k1(k1, k2, n)\n",
    "    honest_expected_nonces = expected_honest_nonces(q)\n",
    "    return (1+w*adv_pow_advantage) / adversarial_cost(c, k1, k2, n, w)"
   ]
  },
  {
   "cell_type": "markdown",
   "id": "fd325160-3086-460f-8585-9d8e9fd1dd34",
   "metadata": {
    "tags": []
   },
   "source": [
    "### Adversary's optimal $c$ for given parameters"
   ]
  },
  {
   "cell_type": "code",
   "execution_count": 9,
   "id": "c9c61891-5c1e-4c04-9bfb-f4930352941b",
   "metadata": {
    "tags": []
   },
   "outputs": [],
   "source": [
    "def find_optimal_c(k1, k2, n, w, disp=0):\n",
    "    def get_adv_cost(c):\n",
    "        return adversarial_cost(c, k1, k2, n, w)\n",
    "        \n",
    "    res = optimize.minimize_scalar(get_adv_cost, bounds=(0, 1), method='bounded', options={'disp': disp, 'xatol': 2**(-64), 'maxiter': 2**20})\n",
    "    \n",
    "    return res.x, res.fun"
   ]
  },
  {
   "cell_type": "markdown",
   "id": "addf0c0b-520b-4438-b09a-421c3940c565",
   "metadata": {
    "tags": []
   },
   "source": [
    "### Finding maximal $k_1$ for a given adversarial advantage\n",
    "When all else is fixed, the lower the value of $k_1$, the lower the adversarial advantage, but the higher the cost to the honest parties (number of nonces required).\n",
    "\n",
    "The adversarial advantage (as opposed to the adversarial cost) depends on the specific honest party to which we are comparing"
   ]
  },
  {
   "cell_type": "code",
   "execution_count": 10,
   "id": "54b39bf3-8c9d-4cae-978c-17a621644873",
   "metadata": {
    "tags": []
   },
   "outputs": [],
   "source": [
    "def find_maximal_k1(max_adv_advantage, k2, n, w, adv_pow_advantage, disp=0):\n",
    "    honest_cost = (1+w*adv_pow_advantage)\n",
    "    adv_cost_target = honest_cost / max_adv_advantage\n",
    "    \n",
    "    def get_adv(k1):\n",
    "        c, cost = find_optimal_c(k1, k2, n, w, disp)\n",
    "        if cost == adv_cost_target:\n",
    "            return -math.inf\n",
    "        elif cost < adv_cost_target:\n",
    "            # Cost is less than target, we need it to be larger\n",
    "            return 1/cost\n",
    "        else:\n",
    "            # Cost is already greater than target, we need it to be smaller\n",
    "            return  -1/(cost - adv_cost_target) # This is negative, and decreases as cost decreases\n",
    "        \n",
    "    res = optimize.minimize_scalar(get_adv, bounds=(k2/2, k2*2), method='bounded', options={'disp': disp, 'xatol': 2**(-64), 'maxiter': 2**20})\n",
    "    \n",
    "    return res.x"
   ]
  },
  {
   "cell_type": "code",
   "execution_count": 11,
   "id": "58606e13-7d1c-4e2e-a9b0-31fdcb20bafa",
   "metadata": {
    "tags": []
   },
   "outputs": [],
   "source": [
    "# Find the number of parallel nonces that minimize the total time to succeed with probability at least `percentile`\n",
    "# We assume passes are always fully completed.\n",
    "\n",
    "def find_opt_parallel_nonces(poster, k1, k2, n, w, percentile):\n",
    "    q = find_q_given_k1(k1, k2, n)\n",
    "    \n",
    "    def percentile_time(nonce_batches):\n",
    "        honest_pow_time = poster.cpu_init_time * w * nonce_batches * nonce_batch_size\n",
    "        return honest_pow_time+n*percentile_total_time_per_label(poster.nonce_labels_sec, poster.read_labels_sec, nonce_batches * nonce_batch_size, q, percentile)\n",
    "    \n",
    "    break_even = break_even_nonces(poster.nonce_labels_sec, poster.read_labels_sec)\n",
    "    res = optimize.minimize_scalar(percentile_time, bounds=(1, 5*ceil(break_even / nonce_batch_size)), method='bounded', options={'xatol': 0.1, 'maxiter': 2000})\n",
    "    if percentile_time(ceil(res.x)) > percentile_time(floor(res.x)):\n",
    "        return floor(res.x) * nonce_batch_size\n",
    "    else:\n",
    "        return ceil(res.x) * nonce_batch_size"
   ]
  },
  {
   "cell_type": "code",
   "execution_count": 12,
   "id": "58e0b6b9-b9c1-4613-b3fd-ad812f91cce8",
   "metadata": {},
   "outputs": [],
   "source": [
    "\n",
    "# Display the calculations for a proof that requires $k_2$ good labels out of $n$, where each label is good with probability $p$.\n",
    "def display_results(k1, k2, n, percentile):\n",
    "    actualq = find_q_given_k1(k1, k2, n) # Actual probability of finding at least k good labels out of n (might differ from q due to rounding)\n",
    "\n",
    "    if actualq == 0 or actualq == 1 or log(1-actualq) == 0:\n",
    "        dm(rf\"**Warning**: actualq=${actualq:.2f}=2^{{ {log(actualq,2):.2f} }}$\")\n",
    "        \n",
    "    \n",
    "    opt_nonces = percentile_honest_nonces(actualq, 1-honest_opt_error)\n",
    "    honest_actual_error = (1-actualq)**opt_nonces\n",
    "    \n",
    "    expected_nonces = expected_honest_nonces(actualq)\n",
    "    # expected_batches = ceil(expected_nonces / honest_nonce_batch)\n",
    "\n",
    "    dm(rf\"\"\"### Proof consists of a single nonce with $k_2={k2}$ good labels\n",
    "\n",
    "* $k_1 = {k1:.2f}$ ($p=\\frac{{k_1}}{{n}}={k1/n:.2e}$)\n",
    "* Proof size is ${k2 *ceil(log(n,256))}$ bytes. \n",
    "* Verification cost is ${k2}$ scrypt evaluations.\n",
    "* {round(1/actualq)} nonces required in expectation.\n",
    "\"\"\")\n",
    "    for poster in posters.values():\n",
    "        parallel_nonces = find_opt_parallel_nonces(poster, k1, k2, n, w, percentile)\n",
    "    "
   ]
  },
  {
   "cell_type": "code",
   "execution_count": 13,
   "id": "1e02f67a-ee6d-4204-a970-62cfe7dd1188",
   "metadata": {},
   "outputs": [],
   "source": [
    "\n",
    "def display_poster_results(c, k1, k2, n, w, poster, adv_init_time, percentile, parallel_nonces = None):\n",
    "    q = find_q_given_k1(k1, k2, n)\n",
    "    \n",
    "    if parallel_nonces == None:\n",
    "        parallel_nonces = find_opt_parallel_nonces(poster, k1, k2, n, w, percentile)\n",
    "    \n",
    "    honest_pow_time = poster.cpu_init_time * w * parallel_nonces\n",
    "    adv_log_nonces = log_adversarial_nonces(c, k1, k2, n)\n",
    "    adv_work_cost = w * 2**adv_log_nonces\n",
    "\n",
    "    dm(rf\"\"\"#### {poster.name}\"\"\")\n",
    "    \n",
    "    display_optimized_nonces(parallel_nonces, poster.nonce_labels_sec, poster.read_labels_sec, q, n, percentile)\n",
    "\n",
    "    dm(rf\"\"\" \n",
    "* Total PoW time for honest party: {round(honest_pow_time)} seconds ({honest_pow_time/60:.2f} minutes), with {percentile*100}% success probability, \n",
    "* Adversarial advantantage (with c={c:.3f}) is {adversarial_advantage(c, k1, k2, n, w, poster.cpu_init_time / adv_init_time):.3f}\n",
    "    - Adversary will try $2^{{ {adv_log_nonces:.2f} }}$ nonces in expectation, costing {adv_work_cost:.2f} init-units of work.\n",
    "    \"\"\")\n",
    "    \n"
   ]
  },
  {
   "cell_type": "markdown",
   "id": "aab3c1f8-3295-46fe-94bb-1ee87bfe2039",
   "metadata": {},
   "source": [
    "# Putting things together\n",
    "### Setting $k_2$ and computing $k_1$ to bound adversarial advantage"
   ]
  },
  {
   "cell_type": "code",
   "execution_count": 17,
   "id": "583dc840-1316-45f7-a1b0-ffdc9a1740fc",
   "metadata": {},
   "outputs": [
    {
     "data": {
      "text/markdown": [
       "### Proof consists of a single nonce with $k_2=100$ good labels\n",
       "\n",
       "* $k_1 = 82.15$ ($p=\\frac{k_1}{n}=4.78e-09$)\n",
       "* Proof size is $500$ bytes. \n",
       "* Verification cost is $100$ scrypt evaluations.\n",
       "* 41 nonces required in expectation.\n"
      ],
      "text/plain": [
       "<IPython.core.display.Markdown object>"
      ]
     },
     "metadata": {},
     "output_type": "display_data"
    },
    {
     "data": {
      "text/markdown": [
       "#### i7-12700k/slow SSD"
      ],
      "text/plain": [
       "<IPython.core.display.Markdown object>"
      ]
     },
     "metadata": {},
     "output_type": "display_data"
    },
    {
     "data": {
      "text/markdown": [
       "##### Optimized execution for $2^{ 30.99 }$ nonces per label/sec, $200.00$ MB/sec read rate\n",
       "* Optimal number of parallel nonces: 192\n",
       "  - will take 1.01 passes in expectation\n",
       "      - ${ 99 }^{th}$-percentile is 1.00 passes\n",
       "  - Expected total time per label is 9.11e-08 seconds.\n",
       "      - ${ 99 }^{th}$-percentile time per label is 9.03e-08 seconds\n",
       "  - Expected total time for $2^{ 34.00 }$ labels is $26.09$ minutes.\n",
       "      - ${ 99 }^{th}$-percentile time is $25.85$ minutes.\n"
      ],
      "text/plain": [
       "<IPython.core.display.Markdown object>"
      ]
     },
     "metadata": {},
     "output_type": "display_data"
    },
    {
     "data": {
      "text/markdown": [
       " \n",
       "* Total PoW time for honest party: 1722 seconds (28.70 minutes), with 99.0% success probability, \n",
       "* Adversarial advantantage (with c=0.781) is 1.249\n",
       "    - Adversary will try $2^{ 16.22 }$ nonces in expectation, costing 0.02 init-units of work.\n",
       "    "
      ],
      "text/plain": [
       "<IPython.core.display.Markdown object>"
      ]
     },
     "metadata": {},
     "output_type": "display_data"
    },
    {
     "data": {
      "text/markdown": [
       "#### Intel(R) Pentium(R) Silver J5040 CPU @ 2.00GHz/fast HDD"
      ],
      "text/plain": [
       "<IPython.core.display.Markdown object>"
      ]
     },
     "metadata": {},
     "output_type": "display_data"
    },
    {
     "data": {
      "text/markdown": [
       "##### Optimized execution for $2^{ 29.37 }$ nonces per label/sec, $150.00$ MB/sec read rate\n",
       "* Optimal number of parallel nonces: 64\n",
       "  - will take 1.26 passes in expectation\n",
       "      - ${ 99 }^{th}$-percentile is 3.00 passes\n",
       "  - Expected total time per label is 1.28e-07 seconds.\n",
       "      - ${ 99 }^{th}$-percentile time per label is 3.05e-07 seconds\n",
       "  - Expected total time for $2^{ 34.00 }$ labels is $36.76$ minutes.\n",
       "      - ${ 99 }^{th}$-percentile time is $87.38$ minutes.\n"
      ],
      "text/plain": [
       "<IPython.core.display.Markdown object>"
      ]
     },
     "metadata": {},
     "output_type": "display_data"
    },
    {
     "data": {
      "text/markdown": [
       " \n",
       "* Total PoW time for honest party: 1280 seconds (21.33 minutes), with 99.0% success probability, \n",
       "* Adversarial advantantage (with c=0.781) is 1.250\n",
       "    - Adversary will try $2^{ 16.22 }$ nonces in expectation, costing 0.02 init-units of work.\n",
       "    "
      ],
      "text/plain": [
       "<IPython.core.display.Markdown object>"
      ]
     },
     "metadata": {},
     "output_type": "display_data"
    }
   ],
   "source": [
    "k2 = 100\n",
    "percentile = 0.99\n",
    "max_adv_advantage = 1.25\n",
    "\n",
    "# Pow Seconds per nonce\n",
    "slow_cpu_pow_seconds_per_nonce = 20\n",
    "w = slow_cpu_pow_seconds_per_nonce / posters['slow'].cpu_init_time\n",
    "\n",
    "k1 = find_maximal_k1(max_adv_advantage, k2, n, w, adv_pow_advantage_for_PoSTer(posters['slow']))\n",
    "\n",
    "c, advcost = find_optimal_c(k1, k2, n, w)\n",
    "\n",
    "display_results(k1, k2, n, percentile)\n",
    "for poster in posters.values():\n",
    "    display_poster_results(c, k1, k2, n, w, poster, adv_init_time, percentile)\n"
   ]
  },
  {
   "cell_type": "markdown",
   "id": "1450c545-af96-4ef6-a4ba-f5fa08016baf",
   "metadata": {},
   "source": [
    "## Setting both $k_2$ and $k_1$ and computing adversarial advantage"
   ]
  },
  {
   "cell_type": "code",
   "execution_count": 18,
   "id": "74806b3e-0ed5-4647-b19f-d85b44389437",
   "metadata": {
    "tags": []
   },
   "outputs": [
    {
     "data": {
      "text/markdown": [
       "### Proof consists of a single nonce with $k_2=60$ good labels\n",
       "\n",
       "* $k_1 = 45.00$ ($p=\\frac{k_1}{n}=2.62e-09$)\n",
       "* Proof size is $300$ bytes. \n",
       "* Verification cost is $60$ scrypt evaluations.\n",
       "* 75 nonces required in expectation.\n"
      ],
      "text/plain": [
       "<IPython.core.display.Markdown object>"
      ]
     },
     "metadata": {},
     "output_type": "display_data"
    },
    {
     "data": {
      "text/markdown": [
       "#### i7-12700k/slow SSD"
      ],
      "text/plain": [
       "<IPython.core.display.Markdown object>"
      ]
     },
     "metadata": {},
     "output_type": "display_data"
    },
    {
     "data": {
      "text/markdown": [
       "##### Optimized execution for $2^{ 30.99 }$ nonces per label/sec, $200.00$ MB/sec read rate\n",
       "* Optimal number of parallel nonces: 176\n",
       "  - will take 1.10 passes in expectation\n",
       "      - ${ 90 }^{th}$-percentile is 1.00 passes\n",
       "  - Expected total time per label is 9.14e-08 seconds.\n",
       "      - ${ 90 }^{th}$-percentile time per label is 8.28e-08 seconds\n",
       "  - Expected total time for $2^{ 34.00 }$ labels is $26.18$ minutes.\n",
       "      - ${ 90 }^{th}$-percentile time is $23.70$ minutes.\n"
      ],
      "text/plain": [
       "<IPython.core.display.Markdown object>"
      ]
     },
     "metadata": {},
     "output_type": "display_data"
    },
    {
     "data": {
      "text/markdown": [
       " \n",
       "* Total PoW time for honest party: 395 seconds (6.58 minutes), with 90.0% success probability, \n",
       "* Adversarial advantantage (with c=0.708) is 1.368\n",
       "    - Adversary will try $2^{ 18.42 }$ nonces in expectation, costing 0.02 init-units of work.\n",
       "    "
      ],
      "text/plain": [
       "<IPython.core.display.Markdown object>"
      ]
     },
     "metadata": {},
     "output_type": "display_data"
    },
    {
     "data": {
      "text/markdown": [
       "#### Intel(R) Pentium(R) Silver J5040 CPU @ 2.00GHz/fast HDD"
      ],
      "text/plain": [
       "<IPython.core.display.Markdown object>"
      ]
     },
     "metadata": {},
     "output_type": "display_data"
    },
    {
     "data": {
      "text/markdown": [
       "##### Optimized execution for $2^{ 29.37 }$ nonces per label/sec, $150.00$ MB/sec read rate\n",
       "* Optimal number of parallel nonces: 176\n",
       "  - will take 1.10 passes in expectation\n",
       "      - ${ 90 }^{th}$-percentile is 1.00 passes\n",
       "  - Expected total time per label is 2.80e-07 seconds.\n",
       "      - ${ 90 }^{th}$-percentile time per label is 2.53e-07 seconds\n",
       "  - Expected total time for $2^{ 34.00 }$ labels is $80.09$ minutes.\n",
       "      - ${ 90 }^{th}$-percentile time is $72.49$ minutes.\n"
      ],
      "text/plain": [
       "<IPython.core.display.Markdown object>"
      ]
     },
     "metadata": {},
     "output_type": "display_data"
    },
    {
     "data": {
      "text/markdown": [
       " \n",
       "* Total PoW time for honest party: 880 seconds (14.67 minutes), with 90.0% success probability, \n",
       "* Adversarial advantantage (with c=0.708) is 1.369\n",
       "    - Adversary will try $2^{ 18.42 }$ nonces in expectation, costing 0.02 init-units of work.\n",
       "    "
      ],
      "text/plain": [
       "<IPython.core.display.Markdown object>"
      ]
     },
     "metadata": {},
     "output_type": "display_data"
    }
   ],
   "source": [
    "k2 = 60\n",
    "percentile = 0.90\n",
    "k1 = 45\n",
    "\n",
    "# Pow Seconds per nonce\n",
    "slow_cpu_pow_seconds_per_nonce = 5\n",
    "w = slow_cpu_pow_seconds_per_nonce / posters['slow'].cpu_init_time\n",
    "\n",
    "c, advcost = find_optimal_c(k1, k2, n, w)\n",
    "\n",
    "display_results(k1, k2, n, percentile)\n",
    "for poster in posters.values():\n",
    "    display_poster_results(c, k1, k2, n, w, poster, adv_init_time, percentile)\n",
    "  \n",
    "\n"
   ]
  },
  {
   "cell_type": "code",
   "execution_count": null,
   "id": "de81a14a-b571-450e-9a1f-326d0eefb6ad",
   "metadata": {},
   "outputs": [],
   "source": []
  }
 ],
 "metadata": {
  "kernelspec": {
   "display_name": "Python 3 (ipykernel)",
   "language": "python",
   "name": "python3"
  },
  "language_info": {
   "codemirror_mode": {
    "name": "ipython",
    "version": 3
   },
   "file_extension": ".py",
   "mimetype": "text/x-python",
   "name": "python",
   "nbconvert_exporter": "python",
   "pygments_lexer": "ipython3",
   "version": "3.10.6"
  }
 },
 "nbformat": 4,
 "nbformat_minor": 5
}
